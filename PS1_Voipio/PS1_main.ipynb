{
 "cells": [
  {
   "cell_type": "code",
   "execution_count": 1,
   "metadata": {},
   "outputs": [
    {
     "name": "stdin",
     "output_type": "stream",
     "text": [
      "Enter a number 'x': 2\n",
      "Enter a number 'y': 3\n"
     ]
    },
    {
     "name": "stdout",
     "output_type": "stream",
     "text": [
      "8\n",
      "1.0\n",
      "3.0\n"
     ]
    }
   ],
   "source": [
    "# Problem Set 1 EX 1\n",
    "# Lauri Voipio\n",
    "import math\n",
    "\n",
    "inputX = int(input(\"Enter a number 'x':\"))\n",
    "inputY = int(input(\"Enter a number 'y':\"))\n",
    "print(inputX**inputY)\n",
    "print(math.log(inputX,2))\n",
    "print(math.log(8,2))"
   ]
  },
  {
   "cell_type": "code",
   "execution_count": 2,
   "metadata": {},
   "outputs": [
    {
     "name": "stdin",
     "output_type": "stream",
     "text": [
      "Enter the length (in meters) to be converted in the imperical units: 640\n"
     ]
    },
    {
     "name": "stdout",
     "output_type": "stream",
     "text": [
      "A length of  640 is:\n",
      "25196.85  inches\n",
      "2099.74  feet\n",
      "699.91  yards\n",
      "0.3977  miles\n"
     ]
    }
   ],
   "source": [
    "# Problem Set 1 EX 2\n",
    "import math\n",
    "cmToInch = 2.54\n",
    "inchToFoot = 12\n",
    "feetToYard = 3\n",
    "yardToBritMile = 1760\n",
    "\n",
    "inputLength = int(input(\"Enter the length (in meters) to be converted in the imperical units:\"))\n",
    "meterInInch = (inputLength * 100) / cmToInch\n",
    "meterInFoot = meterInInch / inchToFoot\n",
    "meterInYard = meterInFoot / feetToYard\n",
    "meterInBritMile = meterInYard / yardToBritMile\n",
    "\n",
    "print(\"A length of \", inputLength, \"is:\")\n",
    "print(\"{0:.2f}\".format(meterInInch) , \" inches\")\n",
    "print(\"{0:.2f}\".format(meterInFoot) , \" feet\")\n",
    "print(\"{0:.2f}\".format(meterInYard) , \" yards\")\n",
    "print(\"{0:.4f}\".format(meterInBritMile) , \" miles\")\n",
    "\n",
    "\n"
   ]
  },
  {
   "cell_type": "code",
   "execution_count": 3,
   "metadata": {},
   "outputs": [
    {
     "name": "stdin",
     "output_type": "stream",
     "text": [
      "What is the interest rate (%)?: 5\n",
      "What is the balance?: 1000\n",
      "What is the duration (Years)?: 3\n"
     ]
    },
    {
     "name": "stdout",
     "output_type": "stream",
     "text": [
      "1157.63\n",
      "The balance of  1000  CHF after  3  with interest rate of  5  is  1157.63 CHF\n"
     ]
    }
   ],
   "source": [
    "# Problem Set 1 EX 3\n",
    "import math\n",
    "\n",
    "interestRate = int(input(\"What is the interest rate (%)?:\"))\n",
    "balance = int(input(\"What is the balance?:\"))\n",
    "duration = int(input(\"What is the duration (Years)?:\"))\n",
    "a = (((1+(interestRate/100))**duration)*balance)\n",
    "result = round(a, 2)\n",
    "print(result)\n",
    "print(\"The balance of \", balance, \" CHF after \", duration, \" with interest rate of \", interestRate, \" is \", result, \"CHF\") \n",
    "\n"
   ]
  },
  {
   "cell_type": "code",
   "execution_count": 4,
   "metadata": {},
   "outputs": [
    {
     "name": "stdout",
     "output_type": "stream",
     "text": [
      "1.0\n",
      "4.0 meters in  1  seconds\n"
     ]
    }
   ],
   "source": [
    "# Problem Set 1 EX 4 a\n",
    "\n",
    "# 'pi' wasn't imported\n",
    "from math import sin, cos, pi\n",
    "x = pi/4\n",
    "# it's not good programming style to start the name of a variable by number\n",
    "# The functions for sin and cos were wrong\n",
    "val_1 = sin(x)**2 + cos(x)**2\n",
    "print (val_1)\n",
    "\n",
    "# Problem Set 1 EX 4 b\n",
    "\n",
    "# The variables can't include text (e.g. m/s))\n",
    "\n",
    "v0 = 3  # v0 in m/s\n",
    "t = 1   # t in s\n",
    "a = 2   # a in m/s**2\n",
    "s = v0*t + 1/2*a*t**2 # meters\n",
    "print (s, \"meters in \", t, \" seconds\")"
   ]
  },
  {
   "cell_type": "code",
   "execution_count": 5,
   "metadata": {},
   "outputs": [
    {
     "name": "stdout",
     "output_type": "stream",
     "text": [
      "It is not possible to take square root from negative value\n"
     ]
    }
   ],
   "source": [
    "# Problem Set 1 EX 5\n",
    "\n",
    "a = 2; b = 1; c = 2\n",
    "from math import sqrt\n",
    "# The program doesn't check whether or not the values are suitable\n",
    "# As to take sqrt the value needs to be positive\n",
    "if (b*b - 4*a*c > 0):\n",
    "    q = sqrt(b*b - 4*a*c)\n",
    "    print (q)\n",
    "    x1 = (-b + q)/2*a\n",
    "    x2 = (-b - q)/2*a\n",
    "# There was a problem with printing format\n",
    "    print(\"The roots are: \",x1, x2)\n",
    "elif (b*b - 4*a*c == 0):\n",
    "    x3 = (-b)/2*a\n",
    "    print(\"The both roots are at value\", x3)\n",
    "else:\n",
    "    print(\"It is not possible to take square root from negative value\")\n",
    "\n"
   ]
  },
  {
   "cell_type": "code",
   "execution_count": 6,
   "metadata": {},
   "outputs": [
    {
     "name": "stdin",
     "output_type": "stream",
     "text": [
      "Give the temperature in Farenheit:  0\n"
     ]
    },
    {
     "name": "stdout",
     "output_type": "stream",
     "text": [
      "-17.78  Celsius\n",
      "True\n"
     ]
    }
   ],
   "source": [
    "# Problem Set 1 EX 6\n",
    "\n",
    "value = int(input(\"Give the temperature in Farenheit: \"))\n",
    "\n",
    "def C(F):\n",
    "    cel = (5/9)*(F-32)\n",
    "    return cel\n",
    "\n",
    "def F(c):\n",
    "    far = c * (9/5) + 32\n",
    "    return far\n",
    "fToC = C(value)\n",
    "\n",
    "print(round(fToC, 2), \" Celsius\")\n",
    "\n",
    "#Check c == C(F(c))\n",
    "\n",
    "print(value == C(F(value)))\n"
   ]
  },
  {
   "cell_type": "code",
   "execution_count": 7,
   "metadata": {},
   "outputs": [
    {
     "name": "stdout",
     "output_type": "stream",
     "text": [
      "4\n"
     ]
    }
   ],
   "source": [
    "# Problem Set 1 EX 7\n",
    "\n",
    "\n",
    "def summa(list):\n",
    "    sum = 0\n",
    "    for x in list:\n",
    "        sum += x\n",
    "    return sum\n",
    "        \n",
    "listDemo = [1,3,5,-5]\n",
    "print(summa(listDemo))"
   ]
  },
  {
   "cell_type": "code",
   "execution_count": 8,
   "metadata": {},
   "outputs": [
    {
     "data": {
      "text/plain": [
       "1.0"
      ]
     },
     "execution_count": 8,
     "metadata": {},
     "output_type": "execute_result"
    }
   ],
   "source": [
    "# Problem Set 1 EX 8\n",
    "\n",
    "\n",
    "def area(vertices):\n",
    "    x2y3 = vertices[1][0]*vertices[2][1]\n",
    "    x3y2 = vertices[2][0]*vertices[1][1]\n",
    "    x1y3 = vertices[0][0]*vertices[2][1]\n",
    "    x3y1 = vertices[2][0]*vertices[0][1]\n",
    "    x1y2 = vertices[0][0]*vertices[1][1]\n",
    "    x2y1 = vertices[1][0]*vertices[0][1]\n",
    "    area = 0.5*(x2y3-x3y2-x1y3+x3y1+x1y2-x2y1)\n",
    "    return area\n",
    "ve = ([[0,0], [1,0], [0,2]])    \n",
    "area(ve)\n",
    "area([[0,0], [1,0], [0,2]])\n",
    "    "
   ]
  },
  {
   "cell_type": "code",
   "execution_count": 9,
   "metadata": {},
   "outputs": [
    {
     "data": {
      "text/plain": [
       "0.9999999931805308"
      ]
     },
     "execution_count": 9,
     "metadata": {},
     "output_type": "execute_result"
    }
   ],
   "source": [
    "# Problem Set 1 EX 9\n",
    "from math import pi, exp, sqrt\n",
    "from numpy import linspace\n",
    "\n",
    "x = linspace(-5, 5, 11)\n",
    "#print(x)\n",
    "\n",
    "def gauss(x, m=0, s=1):\n",
    "    gaussResult = 0\n",
    "    for value in x:\n",
    "        firstElement = 1/((sqrt(2*pi))*s)\n",
    "        secondElement = exp((-1/2)*((value-m)/s)**2)\n",
    "        val = firstElement*secondElement\n",
    "        gaussResult += val\n",
    "    return gaussResult\n",
    "\n",
    "gauss(x)"
   ]
  },
  {
   "cell_type": "code",
   "execution_count": null,
   "metadata": {},
   "outputs": [],
   "source": [
    "# Problem Set 1 EX 10\n",
    "\n",
    "First of all there is the for loop,\n",
    "for the length of the initial length of \"numbers\",\n",
    "and will not change during the run.\n",
    "\n",
    "The first step when entering the loop is the runner n,\n",
    "which has value 0 for the first run.\n",
    "Then we assign value for variable \"i\", which is the\n",
    "value of the length of the list divided by two. First round\n",
    "the value is 5.\n",
    "Next row deletes the i:th value from the list number, first\n",
    "run the deleted value is number 5.\n",
    "The last row of code prints the current length (after deletion)\n",
    "of the list numbers. Second is printed the value that was\n",
    "deleted. Third is the remaining list.\n",
    "\n",
    "Second run works the same, but this time the n has value 1.\n",
    "Also as the length is one value shorter (9), value for variable\n",
    "i is 4, and so the value with index 4 is deleted. The value for\n",
    "index 4 is 4.\n",
    "\n",
    "Third run the same, n = 2, length of the list is 8 and so the\n",
    "value with index 4 is deleted, this time it has value 5.\n",
    "\n",
    "Fourth run the n = 3 and the length of the list is 7, which results\n",
    "to the value with index 3 to be deleted.\n",
    "\n",
    "The fifth run the n = 4 and length of the list is 6. The deleted \n",
    "value is with index 3, and so deleted value is 7.\n",
    "\n",
    "The sixth run is where it breaks. As the n = 5 for the sixth run\n",
    "and the length of the list is only 5, the error will be\n",
    "index out of bounds.\n",
    "\n",
    "So modifying the list that is under for-loop doesn't\n",
    "affect the initial setup, it just breaks things."
   ]
  },
  {
   "cell_type": "code",
   "execution_count": 10,
   "metadata": {},
   "outputs": [
    {
     "data": {
      "text/plain": [
       "<function matplotlib.pyplot.show(*args, **kw)>"
      ]
     },
     "execution_count": 10,
     "metadata": {},
     "output_type": "execute_result"
    }
   ],
   "source": [
    "# Problem Set 1 EX 11\n",
    "\n",
    "import numpy as np\n",
    "\n",
    "listing1 = []\n",
    "listing2 = []\n",
    "\n",
    "# Check the file content\n",
    "#file = open(\"Programming-hec-ss19/Exercise1/dat/density_air.dat\", \"r\")\n",
    "#print(f.read())\n",
    "\n",
    "# Read data using numpy loadtxt function and add values\n",
    "# into two lists, temp and dens\n",
    "data = np.loadtxt(\"Programming-hec-ss19/Exercise1/dat/density_air.dat\", usecols=(0,1))\n",
    "for line in range(0,len(data)):\n",
    "    listing1.append(data[line][0])\n",
    "    listing2.append(data[line][1])\n",
    "\n",
    "# Check the contents of the lists    \n",
    "#print(listing1)\n",
    "#print(listing2)\n",
    "\n",
    "\n",
    "# Plot, draw using small black circles and name labels.\n",
    "import matplotlib.pyplot as plt\n",
    "plt.plot(listing1, listing2, 'ro', color='black', marker='o')\n",
    "plt.xlabel('Temperature')\n",
    "plt.ylabel('Density')\n",
    "plt.show"
   ]
  },
  {
   "cell_type": "code",
   "execution_count": 11,
   "metadata": {},
   "outputs": [
    {
     "name": "stdout",
     "output_type": "stream",
     "text": [
      "[-10.0, -5.0, 0.0, 5.0, 10.0, 15.0, 20.0, 25.0, 30.0]\n",
      "[1.341, 1.316, 1.293, 1.269, 1.247, 1.225, 1.204, 1.184, 1.164]\n",
      " \n",
      "-0.00442 x + 1.293\n",
      "\n",
      "           2\n",
      "1.411e-05 x - 0.004702 x + 1.292\n"
     ]
    },
    {
     "data": {
      "image/png": "[encoded data removed]",
      "text/plain": [
       "<Figure size 432x288 with 1 Axes>"
      ]
     },
     "metadata": {
      "needs_background": "light"
     },
     "output_type": "display_data"
    }
   ],
   "source": [
    "# Problem Set 1 EX 12\n",
    "from numpy import polyfit, poly1d\n",
    "\n",
    "# We can use the lists created in ex 11:\n",
    "xVals = listing1\n",
    "yVals = listing2\n",
    "print(listing1)\n",
    "print(listing2)\n",
    "\n",
    "coeff = polyfit(xVals, yVals, 1)\n",
    "p = poly1d(coeff)\n",
    "print(p)\n",
    "y_fitted1 = p(x)\n",
    "\n",
    "\n",
    "coeff2 = polyfit(xVals, yVals, 2)\n",
    "p2 = poly1d(coeff2)\n",
    "print()\n",
    "print(p2)\n",
    "y_fitted2 = p2(x)\n",
    "plt.plot(x, y_fitted1, y_fitted2);\n",
    "#legend=(’data’, ’fitted polynomial of degree %d’ % deg’))"
   ]
  },
  {
   "cell_type": "code",
   "execution_count": 12,
   "metadata": {},
   "outputs": [
    {
     "name": "stdout",
     "output_type": "stream",
     "text": [
      "55-70\n"
     ]
    }
   ],
   "source": [
    "# Problem Set 1 EX 13\n",
    "\n",
    "humans = {}\n",
    "with open(\"Programming-hec-ss19/Exercise1/dat/human_evolution.txt\", 'r') as f:\n",
    "    for line in f:\n",
    "        if line.startswith('H.'):\n",
    "            split_line = line.split()\n",
    "            split_line[0] = \"homo\"\n",
    "            if(split_line[1]==\"sapiens\"):\n",
    "                name = split_line[0]+\" \"+split_line[1]+\" \"+split_line[2]\n",
    "                del split_line[0:3]\n",
    "            else:\n",
    "                name = split_line[0]+\" \"+split_line[1]\n",
    "                del split_line[0:2]\n",
    "            humans.setdefault(name, [])\n",
    "            humans[name] = {'when':split_line[0]+split_line[1]+split_line[2]}\n",
    "            del split_line[0:3]\n",
    "# add height\n",
    "            if(split_line[1] == \"-\"):\n",
    "                humans[name]['height'] = split_line[0]+split_line[1]+split_line[2]\n",
    "                del split_line[0:3]\n",
    "            else:\n",
    "                humans[name]['height'] = split_line[0]\n",
    "                del split_line[0]\n",
    "\n",
    "# add mass\n",
    "            if(int(split_line[0]) < 200):\n",
    "                if(split_line[1]==\"-\"):\n",
    "                    humans[name]['mass'] = split_line[0]+split_line[1]+split_line[2]\n",
    "                    del split_line[0:3] \n",
    "                else:\n",
    "                    humans[name]['mass'] = split_line[0]\n",
    "                    del split_line[0]\n",
    "            else:\n",
    "                humans[name]['mass'] = \"None\"\n",
    "\n",
    "# add brain volume\n",
    "            brainvolume = \"\"\n",
    "            for i in range(0,len(split_line)):\n",
    "                brainvolume += split_line[i]\n",
    "            humans[name]['brain volume'] = brainvolume\n",
    "        else:\n",
    "            pass\n",
    "    try:\n",
    "        humans.pop(\"H.\")\n",
    "    except KeyError:\n",
    "        None\n",
    "print(humans['homo neanderthalensis']['mass'])"
   ]
  },
  {
   "cell_type": "code",
   "execution_count": null,
   "metadata": {},
   "outputs": [],
   "source": [
    "# Problem Set 1 EX 14\n",
    "\n",
    "# I had no clue how you would have wanted this to be\n",
    "# documented, so here is each of the contents of the\n",
    "# files, and the console log that should show that it\n",
    "# works.\n",
    "\n",
    "# The actual files are available in folder \"PS1_Voipio\" in\n",
    "#  subfolder 'src', as was asked as the path.\n",
    "\n",
    "# content of hello.py\n",
    "def hel():\n",
    "    return \"hello\"\n",
    "\n",
    "# content of world.py\n",
    "def wo():\n",
    "    return \"world\"\n",
    "\n",
    "# content of main.py:\n",
    "import hello\n",
    "from include import world\n",
    "print(hello.hel(), world.wo())\n",
    "\n",
    "\n",
    "# Console log - running main.py in console\n",
    "# and showing the file structure.\n",
    "\n",
    "[voipiol@lgn01 src]$ python3 main.py\n",
    "hello   world\n",
    "[voipiol@lgn01 src]$ python3 main.py\n",
    "hello world\n",
    "[voipiol@lgn01 src]$ ls\n",
    "hello.py  include  main.py  __pycache__\n",
    "[voipiol@lgn01 src]$ cd include\n",
    "[voipiol@lgn01 include]$ ls\n",
    "__pycache__  world.py\n",
    "[voipiol@lgn01 include]$\n"
   ]
  },
  {
   "cell_type": "code",
   "execution_count": 13,
   "metadata": {},
   "outputs": [
    {
     "name": "stdout",
     "output_type": "stream",
     "text": [
      "ex 15.1\n",
      "ABCDEFGHIJKLMNOPQRSTUVWXYZabcdefghijklmnopqrstuvwxyz\n",
      "ABCDEFGHIJKLMNOPQRSTUVWXYZabcdefghijklmnopqrstuvwxyz\n",
      "\n",
      "ex 15.2\n",
      "AaBbCcDdEeFfGgHhIiJjKkLlMmNnOoPpQqRrSsTtUuVvWwXxYyZz\n",
      "\n",
      "ex 15.3\n",
      "| A a B b C c D d E e |\n",
      "| F f G g H h I i J j |\n",
      "| K k L l M m N n O o |\n",
      "| P p Q q R r S s T t |\n",
      "| U u V v W w X x Y y |\n",
      "| Z z                 |\n",
      "\n",
      "ex 15.4\n",
      "['a: ', 'apple']\n",
      "['b']\n",
      "['c']\n",
      "['d']\n",
      "['e']\n",
      "['f']\n",
      "['g: ', 'grape']\n",
      "['h']\n",
      "['i']\n",
      "['j']\n",
      "['k']\n",
      "['l: ', 'lemon']\n",
      "['m']\n",
      "['n']\n",
      "['o: ', 'olive']\n",
      "['p']\n",
      "['q']\n",
      "['r']\n",
      "['s']\n",
      "['t']\n",
      "['u']\n",
      "['v']\n",
      "['w']\n",
      "['x']\n",
      "['y']\n",
      "['z']\n",
      "\n",
      "ex 15.5\n",
      "apple begins with a, grape begins with g, lemon begins with l, olive begins with o\n"
     ]
    }
   ],
   "source": [
    "# Problem Set 1 EX 15 (Readable)\n",
    "#Below this version is the ex 15 as short version, length of it is 978B.\n",
    "import string\n",
    "# 1\n",
    "print(\"ex 15.1\")\n",
    "alphabets=string.ascii_uppercase+string.ascii_lowercase\n",
    "#alphabets = \"ABCDEFGHIJKLMNOPQRSTUVWXYZabcdefghijklmnopqrstuvwxyz\"\n",
    "alphalist = [c for c in alphabets]\n",
    "\n",
    "# shortest but a bit dum\n",
    "print(alphabets)\n",
    "\n",
    "# or slightly longer\n",
    "\n",
    "result1 = \"\"\n",
    "for c in range(0, len(alphalist)):\n",
    "    result1 += alphalist[c]\n",
    "print(result1)\n",
    "print()\n",
    "\n",
    "\n",
    "\n",
    "# 2\n",
    "print(\"ex 15.2\")\n",
    "alphaOrdered = []\n",
    "i=0\n",
    "caps = 26\n",
    "while i < caps:\n",
    "    alphaOrdered.append(alphalist[i])\n",
    "    alphaOrdered.append(alphalist[i+caps])\n",
    "    i += 1\n",
    "result2 = \"\"\n",
    "for c in range(0, len(alphaOrdered)):\n",
    "    result2 += alphaOrdered[c]\n",
    "print(result2)\n",
    "print()\n",
    "\n",
    "# 3\n",
    "print(\"ex 15.3\")\n",
    "i=0\n",
    "n=0\n",
    "while n <= len(alphaOrdered):\n",
    "    row = \"| \"\n",
    "    while i < 10:\n",
    "        if(n < len(alphaOrdered)):\n",
    "            row += alphaOrdered[n]+\" \"\n",
    "        else:\n",
    "            row+= \"  \"\n",
    "        n+=1\n",
    "        i+=1\n",
    "    row += \"|\"\n",
    "    i=0\n",
    "    print(row)\n",
    "print()\n",
    "\n",
    "# 4\n",
    "print(\"ex 15.4\")\n",
    "i=0\n",
    "caps = 26\n",
    "lowcase =[]\n",
    "lowcased = []\n",
    "while i < caps:\n",
    "    lowcase.append(alphalist[i+caps])\n",
    "    if(lowcase[0]==\"a\"):\n",
    "        lowcase[0] = \"a: \"\n",
    "        lowcase.append(\"apple\")\n",
    "    elif(lowcase[0]==\"g\"):\n",
    "        lowcase[0] = (\"g: \")\n",
    "        lowcase.append(\"grape\")\n",
    "    elif(lowcase[0]==\"l\"):\n",
    "        lowcase[0] = (\"l: \")\n",
    "        lowcase.append(\"lemon\")\n",
    "    elif(lowcase[0]==\"o\"):\n",
    "        lowcase[0] = (\"o: \")\n",
    "        lowcase.append(\"olive\")\n",
    "    \n",
    "    print(lowcase)\n",
    "    lowcased.append(lowcase)\n",
    "    lowcase = []\n",
    "    i+=1\n",
    "    \n",
    "# ex 15.5\n",
    "print()\n",
    "print(\"ex 15.5\")\n",
    "theText=\"\"\n",
    "for i in range(0,len(lowcased)):\n",
    "    if(len(lowcased[i])>1):\n",
    "        letter=lowcased[i][0]\n",
    "        theText+=lowcased[i][1]+\" begins with \"+letter[:-2]+\", \"\n",
    "    else:\n",
    "        pass\n",
    "theText = theText[:-2]\n",
    "print(theText)\n",
    "    \n",
    "#Below the ex 15 as short version, length of it is 978B."
   ]
  },
  {
   "cell_type": "code",
   "execution_count": 14,
   "metadata": {},
   "outputs": [
    {
     "name": "stdout",
     "output_type": "stream",
     "text": [
      "ABCDEFGHIJKLMNOPQRSTUVWXYZabcdefghijklmnopqrstuvwxyz\n",
      "AaBbCcDdEeFfGgHhIiJjKkLlMmNnOoPpQqRrSsTtUuVvWwXxYyZz\n",
      "| A a B b C c D d E e |\n",
      "| F f G g H h I i J j |\n",
      "| K k L l M m N n O o |\n",
      "| P p Q q R r S s T t |\n",
      "| U u V v W w X x Y y |\n",
      "| Z z                 |\n",
      "['a: ', 'apple']\n",
      "['b']\n",
      "['c']\n",
      "['d']\n",
      "['e']\n",
      "['f']\n",
      "['g: ', 'grape']\n",
      "['h']\n",
      "['i']\n",
      "['j']\n",
      "['k']\n",
      "['l: ', 'lemon']\n",
      "['m']\n",
      "['n']\n",
      "['o: ', 'olive']\n",
      "['p']\n",
      "['q']\n",
      "['r']\n",
      "['s']\n",
      "['t']\n",
      "['u']\n",
      "['v']\n",
      "['w']\n",
      "['x']\n",
      "['y']\n",
      "['z']\n",
      "apple begins with a, grape begins with g, lemon begins with l, olive begins with o\n"
     ]
    }
   ],
   "source": [
    "import string\n",
    "a=string.ascii_uppercase+string.ascii_lowercase\n",
    "b = [c for c in a]\n",
    "print(a)\n",
    "c = [] \n",
    "i=0\n",
    "d = 26\n",
    "while i < d:\n",
    "    c.append(b[i])\n",
    "    c.append(b[i+d])\n",
    "    i += 1\n",
    "h = \"\"\n",
    "for z in range(0, len(c)):\n",
    "    h += c[z]\n",
    "print(h)\n",
    "i=0\n",
    "n=0\n",
    "while n <= len(c):\n",
    "    w = \"| \"\n",
    "    while i < 10:\n",
    "        if(n < len(c)):\n",
    "            w += c[n]+\" \"\n",
    "        else:\n",
    "            w+= \"  \"\n",
    "        n+=1\n",
    "        i+=1\n",
    "    w += \"|\"\n",
    "    i=0\n",
    "    print(w)\n",
    "i=0\n",
    "caps = 26\n",
    "x =[]\n",
    "w = []\n",
    "while i < d:\n",
    "    x.append(b[i+d])\n",
    "    if(x[0]==\"a\"):\n",
    "        x[0] = \"a: \"\n",
    "        x.append(\"apple\")\n",
    "    elif(x[0]==\"g\"):\n",
    "        x[0] = (\"g: \")\n",
    "        x.append(\"grape\")\n",
    "    elif(x[0]==\"l\"):\n",
    "        x[0] = (\"l: \")\n",
    "        x.append(\"lemon\")\n",
    "    elif(x[0]==\"o\"):\n",
    "        x[0] = (\"o: \")\n",
    "        x.append(\"olive\")\n",
    "    print(x)\n",
    "    w.append(x)\n",
    "    x = []\n",
    "    i+=1\n",
    "j=\"\"\n",
    "for i in range(0,len(w)):\n",
    "    if(len(w[i])>1):\n",
    "        v=w[i][0]\n",
    "        j+=w[i][1]+\" begins with \"+v[:-2]+\", \"\n",
    "    else:\n",
    "        pass\n",
    "j = j[:-2]\n",
    "print(j)"
   ]
  },
  {
   "cell_type": "code",
   "execution_count": null,
   "metadata": {},
   "outputs": [],
   "source": []
  },
  {
   "cell_type": "code",
   "execution_count": null,
   "metadata": {},
   "outputs": [],
   "source": []
  },
  {
   "cell_type": "code",
   "execution_count": null,
   "metadata": {},
   "outputs": [],
   "source": []
  },
  {
   "cell_type": "code",
   "execution_count": null,
   "metadata": {},
   "outputs": [],
   "source": []
  },
  {
   "cell_type": "code",
   "execution_count": null,
   "metadata": {},
   "outputs": [],
   "source": []
  },
  {
   "cell_type": "code",
   "execution_count": null,
   "metadata": {},
   "outputs": [],
   "source": []
  },
  {
   "cell_type": "code",
   "execution_count": null,
   "metadata": {},
   "outputs": [],
   "source": []
  },
  {
   "cell_type": "code",
   "execution_count": null,
   "metadata": {},
   "outputs": [],
   "source": []
  },
  {
   "cell_type": "code",
   "execution_count": null,
   "metadata": {},
   "outputs": [],
   "source": []
  },
  {
   "cell_type": "code",
   "execution_count": null,
   "metadata": {},
   "outputs": [],
   "source": []
  },
  {
   "cell_type": "code",
   "execution_count": null,
   "metadata": {},
   "outputs": [],
   "source": []
  },
  {
   "cell_type": "code",
   "execution_count": null,
   "metadata": {},
   "outputs": [],
   "source": []
  }
 ],
 "metadata": {
  "kernelspec": {
   "display_name": "Python 3",
   "language": "python",
   "name": "python3"
  },
  "language_info": {
   "codemirror_mode": {
    "name": "ipython",
    "version": 3
   },
   "file_extension": ".py",
   "mimetype": "text/x-python",
   "name": "python",
   "nbconvert_exporter": "python",
   "pygments_lexer": "ipython3",
   "version": "3.6.8"
  }
 },
 "nbformat": 4,
 "nbformat_minor": 2
}
